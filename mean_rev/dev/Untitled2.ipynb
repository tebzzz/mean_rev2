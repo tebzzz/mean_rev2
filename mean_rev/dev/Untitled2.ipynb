{
 "cells": [
  {
   "cell_type": "code",
   "execution_count": 7,
   "id": "0ea935c4",
   "metadata": {},
   "outputs": [],
   "source": [
    "import sqlalchemy\n",
    "import pandas as pd\n",
    "\n",
    "username = 'postgres'  \n",
    "password = 'proddb123'\n",
    "host = '34.84.190.250' \n",
    "port = '5432'\n",
    "database = 'prod' \n",
    "\n",
    "db_url = 'postgresql+psycopg2://{}:{}@{}:{}/{}'.format(\n",
    "    username, password, host, port, database)\n",
    "\n",
    "engine = sqlalchemy.create_engine(db_url) #,connect_args={'options': '-c lock_timeout=3000 -c statement_timeout=5000'})\n",
    "cloud = engine.connect()"
   ]
  },
  {
   "cell_type": "code",
   "execution_count": 8,
   "id": "7a254f84",
   "metadata": {},
   "outputs": [],
   "source": [
    "def get_prices_crypto_websocket(ticker, bar_size, bars, ohclv=False, return_all_data=False): #this is going to be the one we want to use next, and going to require some further editing \n",
    "    #ticker = format_ticker(tick1=ticker)\n",
    "    table = 'ohlcv_' + str(ticker).lower() + '_' + str(bar_size)\n",
    "    if return_all_data == False: \n",
    "        res = pd.DataFrame(cloud.execute(\"SELECT close FROM \" + str(table) + \" ORDER BY timestamp desc\").all())#['close'].values.tolist()\n",
    "        print(res)\n",
    "        return res[:bars] #results are returned most recent bar first\n",
    "    else:\n",
    "        res = pd.DataFrame(cloud.execute(\"SELECT * FROM \" + str(table) + \" ORDER BY timestamp desc\").all()).values.tolist()\n",
    "        return res[:bars]\n",
    "    \n",
    "def format_ticker(tick1=None, ticker2=None, use_list=False, ticker_list=None):\n",
    "    if tick1 and not ticker2: \n",
    "        if tick1[-4:] == 'USDT':\n",
    "            return tick1.split('/')[0] + 'USDT'\n",
    "        elif tick1[-4:] == 'BUSD':\n",
    "            return tick1.split('/')[0] + 'BUSD'\n",
    "\n",
    "    if use_list == False: \n",
    "        res = []\n",
    "        if tick1[-4:] == 'USDT':\n",
    "            res.append(tick1.split('/')[0] + 'USDT')\n",
    "        elif tick1[-4:] == 'BUSD':\n",
    "            res.append(tick1.split('/')[0] + 'BUSD')\n",
    "\n",
    "        if ticker2[-4:] == 'USDT':\n",
    "            res.append(ticker2.split('/')[0] + 'USDT')\n",
    "        elif ticker2[-4:] == 'BUSD':\n",
    "            res.append(ticker2.split('/')[0] + 'BUSD')\n",
    "        return res[0], res[1]\n",
    "    elif use_list == True: \n",
    "        adj_list = []\n",
    "        for ticker in ticker_list:\n",
    "            if ticker[-4:] == 'USDT':\n",
    "                adj_list.append(ticker.split('/')[0] + 'USDT')\n",
    "            elif ticker[-4:] == 'BUSD':\n",
    "                adj_list.append(ticker.split('/')[0] + 'BUSD')\n",
    "        return adj_list"
   ]
  },
  {
   "cell_type": "code",
   "execution_count": 9,
   "id": "e615f137",
   "metadata": {},
   "outputs": [
    {
     "name": "stdout",
     "output_type": "stream",
     "text": [
      "1566.17\n"
     ]
    }
   ],
   "source": [
    "ticker1 = 'ETHBUSD'\n",
    "bar_size_lookback='5m'\n",
    "\n",
    "\n",
    "ticker1_current_price = get_prices_crypto_websocket(ticker1, bar_size_lookback, 1, ohclv=False, return_all_data=True)[0][4]\n",
    "print(ticker1_current_price)"
   ]
  },
  {
   "cell_type": "code",
   "execution_count": null,
   "id": "a277d77f",
   "metadata": {},
   "outputs": [],
   "source": []
  }
 ],
 "metadata": {
  "kernelspec": {
   "display_name": "Python 3 (ipykernel)",
   "language": "python",
   "name": "python3"
  },
  "language_info": {
   "codemirror_mode": {
    "name": "ipython",
    "version": 3
   },
   "file_extension": ".py",
   "mimetype": "text/x-python",
   "name": "python",
   "nbconvert_exporter": "python",
   "pygments_lexer": "ipython3",
   "version": "3.9.14"
  }
 },
 "nbformat": 4,
 "nbformat_minor": 5
}
