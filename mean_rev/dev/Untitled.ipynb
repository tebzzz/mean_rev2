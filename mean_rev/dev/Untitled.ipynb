{
 "cells": [
  {
   "cell_type": "code",
   "execution_count": null,
   "id": "fd3b0061",
   "metadata": {},
   "outputs": [],
   "source": [
    "import sqlalchemy"
   ]
  },
  {
   "cell_type": "code",
   "execution_count": 10,
   "id": "ca21cafd",
   "metadata": {},
   "outputs": [],
   "source": [
    "def set_positions_database(ticker1, ticker2, ticker1_quantity, ticker2_quantity, current_pos, use_crypto=False): #only for crypto right now\n",
    "    if use_crypto == True:\n",
    "        pass\n",
    "    else: \n",
    "        print(\"Script is not set up for equities, please change to normal\")\n",
    "\n",
    "    if current_pos == None: \n",
    "        ticker1_quantity, ticker2_quantity = 0,0\n",
    "        open_close = 'CLOSE'\n",
    "    elif current_pos.lower() == 'long':\n",
    "        ticker2_quantity = ticker2_quantity*-1\n",
    "        open_close = 'OPEN'\n",
    "    elif current_pos.lower() == 'short':\n",
    "        ticker1_quantity = ticker1_quantity*-1\n",
    "        open_close = 'OPEN'\n",
    "    \n",
    "    \n",
    "    print(ticker1_quantity)\n",
    "    print(ticker2_quantity)\n",
    "    print(open_close)\n",
    "\n",
    "    #get current values set in database \n",
    "    return\n",
    "\n",
    "    res = cloud.execute('SELECT * FROM positions WHERE pair_number = ' + str(pair_number)).all()[0]\n",
    "    ticker1_pos, ticker2_pos = res[2], res[4]\n",
    "\n",
    "    ticker1_table,ticker2_table = res[1], res[3]\n",
    "\n",
    "    if ticker1_pos == None:\n",
    "        pass\n",
    "    else: \n",
    "        ticker1_pos = float(ticker1_pos)\n",
    "\n",
    "    if ticker2_pos == None:\n",
    "        pass\n",
    "    else: \n",
    "        ticker2_pos = float(ticker2_pos)\n",
    "\n",
    "    #check against what we currently want. \n",
    "    if ticker1_pos == ticker1_quantity and ticker1 == ticker1_table:\n",
    "        pass \n",
    "    else: \n",
    "        cloud.execute(\"UPDATE positions SET ticker1 = '\" + str(ticker1) + \"', ticker1_pos=\" + str(ticker1_quantity) + \" WHERE pair_number=\" + str(pair_number))\n",
    "        if ticker1_pos != 0 and current_pos == None: \n",
    "            cloud.execute(\"INSERT into trade_data_queue (pair_number, ticker, quantity, open_close, average_fill_price, total_fee, shares_remaining, timestamp) values (\" + str(pair_number) + \",'\" + str(ticker1)+ \"',\" + str(ticker1_quantity) + \",'\" + open_close + \"', 0 , 0 ,\" + str(ticker1_quantity) + \",\" + str(exchange.milliseconds()) + \")\") \n",
    "\n",
    "\n",
    "    if ticker2_pos == ticker2_quantity and ticker2 == ticker2_table:\n",
    "        pass \n",
    "    else: \n",
    "        cloud.execute(\"UPDATE positions SET ticker2 = '\" + str(ticker2) + \"', ticker2_pos=\" + str(ticker2_quantity) + \" WHERE pair_number=\" + str(pair_number))\n",
    "        if ticker2_pos != 0 and current_pos == None: \n",
    "            cloud.execute(\"INSERT into trade_data_queue (pair_number, ticker, quantity, open_close, average_fill_price, total_fee, shares_remaining, timestamp) values (\" + str(pair_number) + \",'\" + str(ticker2)+ \"',\" + str(ticker2_quantity) + \",'\" + open_close + \"', 0 , 0 ,\" + str(ticker2_quantity) + \",\" + str(exchange.milliseconds()) + \")\") \n",
    "        #***log to some logging table, where we have trades that don't have values yet attributed to them \n",
    "\n",
    "    heartbeat = exchange.milliseconds()\n",
    "    cloud.execute(\"UPDATE positions SET pos_change_time = \" + str(heartbeat) + \" WHERE pair_number=\" + str(pair_number))"
   ]
  },
  {
   "cell_type": "code",
   "execution_count": 12,
   "id": "43793e12",
   "metadata": {},
   "outputs": [
    {
     "name": "stdout",
     "output_type": "stream",
     "text": [
      "0.01\n",
      "-1\n",
      "OPEN\n"
     ]
    }
   ],
   "source": [
    "set_positions_database('BTCUSDT', 'ETHUSDT', 0.01, 1, 'long', True)"
   ]
  },
  {
   "cell_type": "code",
   "execution_count": null,
   "id": "8372b763",
   "metadata": {},
   "outputs": [],
   "source": []
  }
 ],
 "metadata": {
  "kernelspec": {
   "display_name": "Python 3 (ipykernel)",
   "language": "python",
   "name": "python3"
  },
  "language_info": {
   "codemirror_mode": {
    "name": "ipython",
    "version": 3
   },
   "file_extension": ".py",
   "mimetype": "text/x-python",
   "name": "python",
   "nbconvert_exporter": "python",
   "pygments_lexer": "ipython3",
   "version": "3.9.13"
  }
 },
 "nbformat": 4,
 "nbformat_minor": 5
}
