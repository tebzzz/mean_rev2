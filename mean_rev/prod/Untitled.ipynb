{
 "cells": [
  {
   "cell_type": "code",
   "execution_count": 1,
   "id": "5b63bb02",
   "metadata": {},
   "outputs": [],
   "source": [
    "from datetime import datetime\n",
    "from ib_insync import * \n",
    "import random\n",
    "import math\n",
    "import pytz\n",
    "import ntplib\n",
    "import time\n",
    "import tests\n",
    "import ccxt\n",
    "import sqlalchemy\n",
    "import pandas as pd\n",
    "import numpy as np\n",
    "from os.path import exists\n",
    "from pykalman import KalmanFilter\n",
    "\n",
    "#development:4aX!m{rR[4OQY4q\n",
    "\n",
    "#from dydx3 import Client\n",
    "from web3 import Web3\n",
    "import pandas as pd\n",
    "\n",
    "ticker1= 'BTCUSDT'\n",
    "bar_size_lookback = '5m'\n",
    "exchange = ccxt.binanceusdm()"
   ]
  },
  {
   "cell_type": "code",
   "execution_count": 2,
   "id": "245c5a5f",
   "metadata": {},
   "outputs": [],
   "source": [
    "def get_prices_crypto(ticker, bar_size, bars, return_all_data=False):\n",
    "    while True:  \n",
    "        try: \n",
    "            if return_all_data == True: \n",
    "                data = exchange.fetch_ohlcv(ticker,bar_size,limit=bars)\n",
    "                return data\n",
    "            else:\n",
    "                data = exchange.fetch_ohlcv(ticker,bar_size,limit=bars)\n",
    "                prices = []\n",
    "\n",
    "                for d in data: \n",
    "                    prices.append(d[4])\n",
    "                return prices\n",
    "        except Exception as e: \n",
    "            print(e)\n",
    "            time.sleep(10)"
   ]
  },
  {
   "cell_type": "code",
   "execution_count": 3,
   "id": "ca401200",
   "metadata": {},
   "outputs": [
    {
     "name": "stdout",
     "output_type": "stream",
     "text": [
      "1111\n",
      "[[1664083800000, 18944.6, 18964.9, 18942.0, 18952.6, 815.797], [1664084100000, 18952.6, 18984.7, 18942.1, 18963.0, 1174.989]]\n",
      "300\n"
     ]
    }
   ],
   "source": [
    "print('1111')\n",
    "latest_time_pulled = get_prices_crypto(ticker1, bar_size_lookback, 2, return_all_data=True) #*** need to change the time of the last bar from binace\n",
    "delta_time = int(abs((latest_time_pulled[0][0] - latest_time_pulled[1][0])/1000)) #in seconds\n",
    "\n",
    "print(latest_time_pulled)\n",
    "print(delta_time)\n"
   ]
  },
  {
   "cell_type": "code",
   "execution_count": null,
   "id": "571a6d48",
   "metadata": {},
   "outputs": [],
   "source": [
    "print(1)"
   ]
  },
  {
   "cell_type": "code",
   "execution_count": null,
   "id": "2208c093",
   "metadata": {},
   "outputs": [],
   "source": [
    "def update_global_data_crypto(ticker1, ticker2): \n",
    "    global global_data, global_time, hedge_ratio, duration_lookback, bar_size_lookback\n",
    "    duration = duration_lookback\n",
    "    update = False\n",
    "\n",
    "#     if len(global_data) == 0:  \n",
    "#         print('Global data is empty, initializing data!')\n",
    "#         replace_df = True\n",
    "#     else:\n",
    "        latest_time_pulled = get_prices_crypto(ticker1, bar_size_lookback, 2, return_all_data=True) #*** need to change the time of the last bar from binace\n",
    "        delta_time = int(abs((latest_time_pulled[0][0] - latest_time_pulled[1][0])/1000)) #in seconds\n"
   ]
  },
  {
   "cell_type": "code",
   "execution_count": null,
   "id": "b7d394d7",
   "metadata": {},
   "outputs": [],
   "source": [
    "\n",
    "        #get the latest time in the df\n",
    "        latest_df_time = global_data['Time'].iloc[0]\n",
    "        differential = latest_time_pulled[-1][0]- latest_df_time\n",
    "        if differential > 0: \n",
    "            delta_bars = ((latest_time_pulled[-1][0] - latest_df_time)/(delta_time*1000))*1.2\n",
    "            if delta_bars > len(global_data): \n",
    "                replace_df = True #update entire dataframe\n",
    "            else: \n",
    "                replace_df = False #updates necessary part of dataframe\n",
    "                duration = delta_bars\n",
    "        elif differential == 0: \n",
    "            update = True\n",
    "            duration = 1\n",
    "            replace_df = False\n",
    "\n",
    "    data1 = get_prices_crypto(ticker1,bar_size_lookback, math.ceil(duration),return_all_data=True) #***data needs to be looked at and adjusted \n",
    "    data2 = get_prices_crypto(ticker2,bar_size_lookback, math.ceil(duration),return_all_data=True)\n",
    "\n",
    "    times = [data1[i][0] for i in range(len(data1))]\n",
    "\n",
    "    data1, data2, times = data1[::-1], data2[::-1], times[::-1] #needed to reverse list\n",
    "\n",
    "    data1_close = [data1[i][4] for i in range(len(data1))]\n",
    "    data2_close = [data2[i][4] for i in range(len(data2))]\n",
    "\n",
    "    data1_low = [data1[i][3] for i in range(len(data1))]\n",
    "    data2_low = [data2[i][3] for i in range(len(data2))]\n",
    "\n",
    "    data1_high = [data1[i][2] for i in range(len(data1))]\n",
    "    data2_high = [data2[i][2] for i in range(len(data2))]\n",
    "\n",
    "    spread = []\n",
    "    for i in range(len(data1_close)):\n",
    "        if spread_type == 'log':\n",
    "            spread.append(math.log(data1_close[i]) - hedge_ratio*math.log(data2_close[i]))\n",
    "        elif spread_type == 'absolute':\n",
    "            spread.append(data1_close[i] - hedge_ratio*data2_close[i])\n",
    "\n",
    "    df = pd.DataFrame({'Time':times, 'Ticker 1 Price':data1_close,'Ticker 1 Low':data1_low, 'Ticker 1 High':data1_high,'Ticker 2 Price':data2_close, 'Ticker 2 Low':data2_low, 'Ticker 2 High':data2_high,'Spread': spread})\n",
    " \n",
    "    if update == True: \n",
    "        global_data.iloc[0] = df.iloc[0]\n",
    "\n",
    "    if replace_df == False and update == False: \n",
    "        df_time = df['Time'].iloc[-1]\n",
    "        rows = 0\n",
    "        for t in global_data['Time']:\n",
    "            rows += 1\n",
    "            if df_time == t: \n",
    "                break \n",
    "            \n",
    "        if rows > 0: \n",
    "            global_data = global_data.truncate(before=rows)\n",
    "            #concatenate \n",
    "            global_data = pd.merge(df,global_data, how=\"outer\")\n",
    "\n",
    "    elif replace_df == True:\n",
    "        global_data = df\n",
    "\n",
    "    global_data = global_data[:global_data_max_size]"
   ]
  },
  {
   "cell_type": "code",
   "execution_count": null,
   "id": "a58fc976",
   "metadata": {},
   "outputs": [],
   "source": []
  },
  {
   "cell_type": "code",
   "execution_count": null,
   "id": "f35894c4",
   "metadata": {},
   "outputs": [],
   "source": []
  }
 ],
 "metadata": {
  "kernelspec": {
   "display_name": "Python 3 (ipykernel)",
   "language": "python",
   "name": "python3"
  },
  "language_info": {
   "codemirror_mode": {
    "name": "ipython",
    "version": 3
   },
   "file_extension": ".py",
   "mimetype": "text/x-python",
   "name": "python",
   "nbconvert_exporter": "python",
   "pygments_lexer": "ipython3",
   "version": "3.9.13"
  }
 },
 "nbformat": 4,
 "nbformat_minor": 5
}
